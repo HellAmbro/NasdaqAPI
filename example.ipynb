{
 "cells": [
  {
   "cell_type": "code",
   "execution_count": 7,
   "id": "peripheral-french",
   "metadata": {},
   "outputs": [],
   "source": [
    "import nasdaq as nd"
   ]
  },
  {
   "cell_type": "code",
   "execution_count": 8,
   "id": "casual-carnival",
   "metadata": {},
   "outputs": [],
   "source": [
    "stock = nd.Stock('MSFT')"
   ]
  },
  {
   "cell_type": "code",
   "execution_count": 9,
   "id": "educational-language",
   "metadata": {},
   "outputs": [
    {
     "data": {
      "text/plain": "{'symbol': 'MSFT',\n 'companyName': 'Microsoft Corporation Common Stock',\n 'stockType': 'Common Stock',\n 'exchange': 'NASDAQ-GS',\n 'isNasdaqListed': True,\n 'isNasdaq100': True,\n 'isHeld': False,\n 'primaryData': {'lastSalePrice': '$230.20',\n  'netChange': '-1.40',\n  'percentageChange': '-0.60%',\n  'deltaIndicator': 'down',\n  'lastTradeTimestamp': 'DATA AS OF Mar 08, 2021 8:26 AM ET - PRE-MARKET',\n  'isRealTime': True},\n 'secondaryData': {'lastSalePrice': '$231.60',\n  'netChange': '+4.87',\n  'percentageChange': '+2.15%',\n  'deltaIndicator': 'up',\n  'lastTradeTimestamp': 'CLOSED AT 4:00 PM ET ON Mar 05, 2021',\n  'isRealTime': False},\n 'keyStats': {'Volume': {'label': 'Volume', 'value': '94,043'},\n  'PreviousClose': {'label': 'Previous Close', 'value': '$231.60'},\n  'OpenPrice': {'label': 'Open', 'value': '$229.50'},\n  'MarketCap': {'label': 'Market Cap', 'value': '1,746,777,171,637'}},\n 'marketStatus': 'Pre Market',\n 'assetClass': 'STOCKS',\n 'tradingHeld': None,\n 'complianceStatus': None}"
     },
     "execution_count": 9,
     "metadata": {},
     "output_type": "execute_result"
    }
   ],
   "source": [
    "stock.quote.get_info()"
   ]
  },
  {
   "cell_type": "code",
   "execution_count": 10,
   "id": "ranking-chick",
   "metadata": {},
   "outputs": [
    {
     "data": {
      "text/plain": "{'exDividendDate': '02/17/2021',\n 'dividendPaymentDate': '03/11/2021',\n 'yield': '0.98%',\n 'annualizedDividend': '2.24',\n 'payoutRatio': '34.52',\n 'dividends': {'headers': {'exOrEffDate': 'Ex/EFF DATE',\n   'type': 'TYPE',\n   'amount': 'CASH AMOUNT',\n   'declarationDate': 'DECLARATION DATE',\n   'recordDate': 'RECORD DATE',\n   'paymentDate': 'PAYMENT DATE'},\n  'rows': [{'exOrEffDate': '02/17/2021',\n    'type': 'CASH',\n    'amount': '$0.56',\n    'declarationDate': '12/02/2020',\n    'recordDate': '02/18/2021',\n    'paymentDate': '03/11/2021'},\n   {'exOrEffDate': '11/18/2020',\n    'type': 'CASH',\n    'amount': '$0.56',\n    'declarationDate': '09/15/2020',\n    'recordDate': '11/19/2020',\n    'paymentDate': '12/10/2020'},\n   {'exOrEffDate': '08/19/2020',\n    'type': 'CASH',\n    'amount': '$0.51',\n    'declarationDate': '06/17/2020',\n    'recordDate': '08/20/2020',\n    'paymentDate': '09/10/2020'},\n   {'exOrEffDate': '05/20/2020',\n    'type': 'CASH',\n    'amount': '$0.51',\n    'declarationDate': '03/09/2020',\n    'recordDate': '05/21/2020',\n    'paymentDate': '06/11/2020'},\n   {'exOrEffDate': '02/19/2020',\n    'type': 'CASH',\n    'amount': '$0.51',\n    'declarationDate': '12/04/2019',\n    'recordDate': '02/20/2020',\n    'paymentDate': '03/12/2020'},\n   {'exOrEffDate': '11/20/2019',\n    'type': 'CASH',\n    'amount': '$0.51',\n    'declarationDate': '09/18/2019',\n    'recordDate': '11/21/2019',\n    'paymentDate': '12/12/2019'},\n   {'exOrEffDate': '08/14/2019',\n    'type': 'CASH',\n    'amount': '$0.46',\n    'declarationDate': '06/12/2019',\n    'recordDate': '08/15/2019',\n    'paymentDate': '09/12/2019'},\n   {'exOrEffDate': '05/15/2019',\n    'type': 'CASH',\n    'amount': '$0.46',\n    'declarationDate': '03/11/2019',\n    'recordDate': '05/16/2019',\n    'paymentDate': '06/13/2019'},\n   {'exOrEffDate': '02/20/2019',\n    'type': 'CASH',\n    'amount': '$0.46',\n    'declarationDate': '11/28/2018',\n    'recordDate': '02/21/2019',\n    'paymentDate': '03/14/2019'},\n   {'exOrEffDate': '11/14/2018',\n    'type': 'CASH',\n    'amount': '$0.46',\n    'declarationDate': '09/18/2018',\n    'recordDate': '11/15/2018',\n    'paymentDate': '12/13/2018'},\n   {'exOrEffDate': '08/15/2018',\n    'type': 'CASH',\n    'amount': '$0.42',\n    'declarationDate': '06/13/2018',\n    'recordDate': '08/16/2018',\n    'paymentDate': '09/13/2018'},\n   {'exOrEffDate': '05/16/2018',\n    'type': 'CASH',\n    'amount': '$0.42',\n    'declarationDate': '03/12/2018',\n    'recordDate': '05/17/2018',\n    'paymentDate': '06/14/2018'},\n   {'exOrEffDate': '02/14/2018',\n    'type': 'CASH',\n    'amount': '$0.42',\n    'declarationDate': '11/29/2017',\n    'recordDate': '02/15/2018',\n    'paymentDate': '03/08/2018'},\n   {'exOrEffDate': '11/15/2017',\n    'type': 'CASH',\n    'amount': '$0.42',\n    'declarationDate': '09/19/2017',\n    'recordDate': '11/16/2017',\n    'paymentDate': '12/14/2017'},\n   {'exOrEffDate': '08/15/2017',\n    'type': 'CASH',\n    'amount': '$0.39',\n    'declarationDate': '06/13/2017',\n    'recordDate': '08/17/2017',\n    'paymentDate': '09/14/2017'},\n   {'exOrEffDate': '05/16/2017',\n    'type': 'CASH',\n    'amount': '$0.39',\n    'declarationDate': '03/14/2017',\n    'recordDate': '05/18/2017',\n    'paymentDate': '06/08/2017'},\n   {'exOrEffDate': '02/14/2017',\n    'type': 'CASH',\n    'amount': '$0.39',\n    'declarationDate': '11/30/2016',\n    'recordDate': '02/16/2017',\n    'paymentDate': '03/09/2017'},\n   {'exOrEffDate': '11/15/2016',\n    'type': 'CASH',\n    'amount': '$0.39',\n    'declarationDate': '09/20/2016',\n    'recordDate': '11/17/2016',\n    'paymentDate': '12/08/2016'},\n   {'exOrEffDate': '08/16/2016',\n    'type': 'CASH',\n    'amount': '$0.36',\n    'declarationDate': '06/14/2016',\n    'recordDate': '08/18/2016',\n    'paymentDate': '09/08/2016'},\n   {'exOrEffDate': '05/17/2016',\n    'type': 'CASH',\n    'amount': '$0.36',\n    'declarationDate': '03/15/2016',\n    'recordDate': '05/19/2016',\n    'paymentDate': '06/09/2016'},\n   {'exOrEffDate': '02/16/2016',\n    'type': 'CASH',\n    'amount': '$0.36',\n    'declarationDate': '12/02/2015',\n    'recordDate': '02/18/2016',\n    'paymentDate': '03/10/2016'},\n   {'exOrEffDate': '11/17/2015',\n    'type': 'CASH',\n    'amount': '$0.36',\n    'declarationDate': '09/15/2015',\n    'recordDate': '11/19/2015',\n    'paymentDate': '12/10/2015'},\n   {'exOrEffDate': '08/18/2015',\n    'type': 'CASH',\n    'amount': '$0.31',\n    'declarationDate': '06/09/2015',\n    'recordDate': '08/20/2015',\n    'paymentDate': '09/10/2015'},\n   {'exOrEffDate': '05/19/2015',\n    'type': 'CASH',\n    'amount': '$0.31',\n    'declarationDate': '03/10/2015',\n    'recordDate': '05/21/2015',\n    'paymentDate': '06/11/2015'},\n   {'exOrEffDate': '02/17/2015',\n    'type': 'CASH',\n    'amount': '$0.31',\n    'declarationDate': '12/03/2014',\n    'recordDate': '02/19/2015',\n    'paymentDate': '03/12/2015'},\n   {'exOrEffDate': '11/18/2014',\n    'type': 'CASH',\n    'amount': '$0.31',\n    'declarationDate': '09/16/2014',\n    'recordDate': '11/20/2014',\n    'paymentDate': '12/11/2014'},\n   {'exOrEffDate': '08/19/2014',\n    'type': 'CASH',\n    'amount': '$0.28',\n    'declarationDate': '06/10/2014',\n    'recordDate': '08/21/2014',\n    'paymentDate': '09/11/2014'},\n   {'exOrEffDate': '05/13/2014',\n    'type': 'CASH',\n    'amount': '$0.28',\n    'declarationDate': '03/11/2014',\n    'recordDate': '05/15/2014',\n    'paymentDate': '06/12/2014'},\n   {'exOrEffDate': '02/18/2014',\n    'type': 'CASH',\n    'amount': '$0.28',\n    'declarationDate': '11/19/2013',\n    'recordDate': '02/20/2014',\n    'paymentDate': '03/13/2014'},\n   {'exOrEffDate': '11/19/2013',\n    'type': 'CASH',\n    'amount': '$0.28',\n    'declarationDate': '09/16/2013',\n    'recordDate': '11/21/2013',\n    'paymentDate': '12/12/2013'},\n   {'exOrEffDate': '08/13/2013',\n    'type': 'CASH',\n    'amount': '$0.23',\n    'declarationDate': '06/12/2013',\n    'recordDate': '08/15/2013',\n    'paymentDate': '09/12/2013'},\n   {'exOrEffDate': '05/14/2013',\n    'type': 'CASH',\n    'amount': '$0.23',\n    'declarationDate': '03/11/2013',\n    'recordDate': '05/16/2013',\n    'paymentDate': '06/13/2013'},\n   {'exOrEffDate': '02/19/2013',\n    'type': 'CASH',\n    'amount': '$0.23',\n    'declarationDate': '11/28/2012',\n    'recordDate': '02/21/2013',\n    'paymentDate': '03/14/2013'},\n   {'exOrEffDate': '11/13/2012',\n    'type': 'CASH',\n    'amount': '$0.23',\n    'declarationDate': '09/18/2012',\n    'recordDate': '11/15/2012',\n    'paymentDate': '12/13/2012'},\n   {'exOrEffDate': '08/14/2012',\n    'type': 'CASH',\n    'amount': '$0.20',\n    'declarationDate': '06/13/2012',\n    'recordDate': '08/16/2012',\n    'paymentDate': '09/13/2012'},\n   {'exOrEffDate': '05/15/2012',\n    'type': 'CASH',\n    'amount': '$0.20',\n    'declarationDate': '03/13/2012',\n    'recordDate': '05/17/2012',\n    'paymentDate': '06/14/2012'},\n   {'exOrEffDate': '02/14/2012',\n    'type': 'CASH',\n    'amount': '$0.20',\n    'declarationDate': '12/14/2011',\n    'recordDate': '02/16/2012',\n    'paymentDate': '03/08/2012'},\n   {'exOrEffDate': '11/15/2011',\n    'type': 'CASH',\n    'amount': '$0.20',\n    'declarationDate': '09/20/2011',\n    'recordDate': '11/17/2011',\n    'paymentDate': '12/08/2011'},\n   {'exOrEffDate': '08/16/2011',\n    'type': 'CASH',\n    'amount': '$0.16',\n    'declarationDate': '06/15/2011',\n    'recordDate': '08/18/2011',\n    'paymentDate': '09/08/2011'},\n   {'exOrEffDate': '05/17/2011',\n    'type': 'CASH',\n    'amount': '$0.16',\n    'declarationDate': '03/14/2011',\n    'recordDate': '05/19/2011',\n    'paymentDate': '06/09/2011'},\n   {'exOrEffDate': '02/15/2011',\n    'type': 'CASH',\n    'amount': '$0.16',\n    'declarationDate': '12/15/2010',\n    'recordDate': '02/17/2011',\n    'paymentDate': '03/10/2011'},\n   {'exOrEffDate': '11/16/2010',\n    'type': 'CASH',\n    'amount': '$0.16',\n    'declarationDate': '09/21/2010',\n    'recordDate': '11/18/2010',\n    'paymentDate': '12/09/2010'},\n   {'exOrEffDate': '08/17/2010',\n    'type': 'CASH',\n    'amount': '$0.13',\n    'declarationDate': '06/16/2010',\n    'recordDate': '08/19/2010',\n    'paymentDate': '09/09/2010'},\n   {'exOrEffDate': '05/18/2010',\n    'type': 'CASH',\n    'amount': '$0.13',\n    'declarationDate': '03/08/2010',\n    'recordDate': '05/20/2010',\n    'paymentDate': '06/10/2010'},\n   {'exOrEffDate': '02/16/2010',\n    'type': 'CASH',\n    'amount': '$0.13',\n    'declarationDate': '12/09/2009',\n    'recordDate': '02/18/2010',\n    'paymentDate': '03/11/2010'},\n   {'exOrEffDate': '11/17/2009',\n    'type': 'CASH',\n    'amount': '$0.13',\n    'declarationDate': '09/18/2009',\n    'recordDate': '11/19/2009',\n    'paymentDate': '12/10/2009'},\n   {'exOrEffDate': '08/18/2009',\n    'type': 'CASH',\n    'amount': '$0.13',\n    'declarationDate': '06/10/2009',\n    'recordDate': '08/20/2009',\n    'paymentDate': '09/10/2009'},\n   {'exOrEffDate': '05/19/2009',\n    'type': 'CASH',\n    'amount': '$0.13',\n    'declarationDate': '03/09/2009',\n    'recordDate': '05/21/2009',\n    'paymentDate': '06/18/2009'},\n   {'exOrEffDate': '02/17/2009',\n    'type': 'CASH',\n    'amount': '$0.13',\n    'declarationDate': '12/10/2008',\n    'recordDate': '02/19/2009',\n    'paymentDate': '03/12/2009'},\n   {'exOrEffDate': '11/18/2008',\n    'type': 'CASH',\n    'amount': '$0.13',\n    'declarationDate': '09/19/2008',\n    'recordDate': '11/20/2008',\n    'paymentDate': '12/11/2008'},\n   {'exOrEffDate': '08/19/2008',\n    'type': 'CASH',\n    'amount': '$0.11',\n    'declarationDate': '06/11/2008',\n    'recordDate': '08/21/2008',\n    'paymentDate': '09/11/2008'},\n   {'exOrEffDate': '05/13/2008',\n    'type': 'CASH',\n    'amount': '$0.11',\n    'declarationDate': '03/17/2008',\n    'recordDate': '05/15/2008',\n    'paymentDate': '06/12/2008'},\n   {'exOrEffDate': '02/19/2008',\n    'type': 'CASH',\n    'amount': '$0.11',\n    'declarationDate': '12/19/2007',\n    'recordDate': '02/21/2008',\n    'paymentDate': '03/13/2008'},\n   {'exOrEffDate': '11/13/2007',\n    'type': 'CASH',\n    'amount': '$0.11',\n    'declarationDate': 'N/A',\n    'recordDate': '11/15/2007',\n    'paymentDate': '12/13/2007'},\n   {'exOrEffDate': '08/14/2007',\n    'type': 'CASH',\n    'amount': '$0.10',\n    'declarationDate': '06/27/2007',\n    'recordDate': '08/16/2007',\n    'paymentDate': '09/13/2007'},\n   {'exOrEffDate': '05/15/2007',\n    'type': 'CASH',\n    'amount': '$0.10',\n    'declarationDate': '03/26/2007',\n    'recordDate': '05/17/2007',\n    'paymentDate': '06/14/2007'},\n   {'exOrEffDate': '02/13/2007',\n    'type': 'CASH',\n    'amount': '$0.10',\n    'declarationDate': '12/20/2006',\n    'recordDate': '02/15/2007',\n    'paymentDate': '03/08/2007'},\n   {'exOrEffDate': '11/14/2006',\n    'type': 'CASH',\n    'amount': '$0.10',\n    'declarationDate': '09/13/2006',\n    'recordDate': '11/16/2006',\n    'paymentDate': '12/14/2006'},\n   {'exOrEffDate': '08/15/2006',\n    'type': 'CASH',\n    'amount': '$0.09',\n    'declarationDate': '06/21/2006',\n    'recordDate': '08/17/2006',\n    'paymentDate': '09/14/2006'},\n   {'exOrEffDate': '05/15/2006',\n    'type': 'CASH',\n    'amount': '$0.09',\n    'declarationDate': 'N/A',\n    'recordDate': '05/17/2006',\n    'paymentDate': '06/08/2006'},\n   {'exOrEffDate': '02/15/2006',\n    'type': 'CASH',\n    'amount': '$0.09',\n    'declarationDate': '12/14/2005',\n    'recordDate': '02/17/2006',\n    'paymentDate': '03/09/2006'},\n   {'exOrEffDate': '11/15/2005',\n    'type': 'CASH',\n    'amount': '$0.08',\n    'declarationDate': '09/22/2005',\n    'recordDate': '11/17/2005',\n    'paymentDate': '12/08/2005'},\n   {'exOrEffDate': '08/15/2005',\n    'type': 'CASH',\n    'amount': '$0.08',\n    'declarationDate': 'N/A',\n    'recordDate': '08/17/2005',\n    'paymentDate': '09/08/2005'},\n   {'exOrEffDate': '05/16/2005',\n    'type': 'CASH',\n    'amount': '$0.08',\n    'declarationDate': 'N/A',\n    'recordDate': '05/18/2005',\n    'paymentDate': '06/09/2005'},\n   {'exOrEffDate': '02/15/2005',\n    'type': 'CASH',\n    'amount': '$0.08',\n    'declarationDate': 'N/A',\n    'recordDate': '02/17/2005',\n    'paymentDate': '03/10/2005'},\n   {'exOrEffDate': '11/15/2004',\n    'type': 'CASH',\n    'amount': '$3.08',\n    'declarationDate': 'N/A',\n    'recordDate': '11/17/2004',\n    'paymentDate': '12/02/2004'},\n   {'exOrEffDate': '08/23/2004',\n    'type': 'CASH',\n    'amount': '$0.08',\n    'declarationDate': 'N/A',\n    'recordDate': '08/25/2004',\n    'paymentDate': '09/14/2004'},\n   {'exOrEffDate': '10/15/2003',\n    'type': 'CASH',\n    'amount': '$0.16',\n    'declarationDate': '09/11/2003',\n    'recordDate': '10/17/2003',\n    'paymentDate': '11/07/2003'},\n   {'exOrEffDate': '02/19/2003',\n    'type': 'CASH',\n    'amount': '$0.08',\n    'declarationDate': 'N/A',\n    'recordDate': '02/19/2003',\n    'paymentDate': 'N/A'},\n   {'exOrEffDate': 'N/A',\n    'type': 'CASH',\n    'amount': '$3.00',\n    'declarationDate': 'N/A',\n    'recordDate': '11/17/2004',\n    'paymentDate': '12/02/2004'}]}}"
     },
     "execution_count": 10,
     "metadata": {},
     "output_type": "execute_result"
    }
   ],
   "source": [
    "stock.quote.get_dividends()"
   ]
  },
  {
   "cell_type": "code",
   "execution_count": 11,
   "id": "voluntary-market",
   "metadata": {},
   "outputs": [
    {
     "data": {
      "text/plain": "{'ModuleTitle': {'label': 'Module Title', 'value': 'Company Description'},\n 'CompanyName': {'label': 'Company Name', 'value': 'Microsoft Corporation'},\n 'Symbol': {'label': 'Symbol', 'value': 'MSFT'},\n 'Address': {'label': 'Address',\n  'value': 'ONE MICROSOFT WAY, REDMOND, Washington, 98052-6399, United States of America'},\n 'Phone': {'label': 'Phone', 'value': '4258828080'},\n 'Industry': {'label': 'Industry',\n  'value': 'Computer Software: Prepackaged Software'},\n 'Sector': {'label': 'Sector', 'value': 'Technology'},\n 'Region': {'label': 'Region', 'value': 'North America'},\n 'CompanyDescription': {'label': 'Company Description',\n  'value': 'This report includes estimates, projections, statements relating to our business\\r\\nplans, objectives, and expected operating results that are \"forward-looking\\r\\nstatements\" within the meaning of the Private Securities Litigation Reform Act\\r\\nof 1995, Section 27A of the Securities Act of 1933, and Section 21E of the\\r\\nSecurities Exchange Act of 1934. Forward-looking statements may appear\\r\\nthroughout this report, including the following sections: \"Business\" (Part I,\\r\\nItem 1 of this Form 10-K), \"Risk Factors\" (Part I, Item 1A of this Form 10-K),\\r\\nand \"Management\\'s Discussion and Analysis of Financial Condition and Results of\\r\\nOperations\" (Part II, Item 7 of this Form 10-K). These forward-looking\\r\\nstatements generally are identified by the words \"believe,\" \"project,\" \"expect,\"\\r\\n\"anticipate,\" \"estimate,\" \"intend,\" \"strategy,\" \"future,\" \"opportunity,\" \"plan,\"\\r\\n\"may,\" \"should,\" \"will,\" \"would,\" \"will be,\" \"will continue,\" \"will likely\\r\\nresult,\" and similar expressions.&nbsp;&nbsp;... <a href=\"http://secfilings.nasdaq.com/edgar_conv_html%2f2019%2f08%2f01%2f0001564590-19-027952.html#FIS_BUSINESS\" target=\"_blank\">More</a> ...&nbsp;&nbsp;\\r\\n'},\n 'CompanyUrl': {'label': 'Company Url', 'value': 'http://www.microsoft.com'},\n 'KeyExecutives': {'label': 'Key Executives',\n  'value': [{'name': 'Amy E. Hood',\n    'title': 'Chief Financial Officer & Executive Vice President'},\n   {'name': 'Bill Duff', 'title': 'CFO-Operating Systems Group'},\n   {'name': \"David M. O'Hara\",\n    'title': 'Chief Financial Officer-Online Services Division'},\n   {'name': 'James Kevin Scott',\n    'title': 'Chief Technology Officer & Executive VP'},\n   {'name': 'Kirk Koenigsbauer',\n    'title': 'COO & VP-Experiences & Devices Group'},\n   {'name': 'Satya Nadella',\n    'title': 'Chief Executive Officer & Non-Independent Director'}]}}"
     },
     "execution_count": 11,
     "metadata": {},
     "output_type": "execute_result"
    }
   ],
   "source": [
    "stock.company.get_company_profile()"
   ]
  },
  {
   "cell_type": "code",
   "execution_count": 12,
   "id": "unavailable-negative",
   "metadata": {},
   "outputs": [
    {
     "data": {
      "text/plain": "{'title': None,\n 'numberOfTrades': {'headers': {'insiderTrade': 'INSIDER TRADE',\n   'months3': '3 MONTHS',\n   'months12': '12 MONTHS'},\n  'rows': [{'insiderTrade': 'Number of Open Market Buys',\n    'months3': '7',\n    'months12': '40'},\n   {'insiderTrade': 'Number of Sells', 'months3': '14', 'months12': '47'},\n   {'insiderTrade': 'Total Insider Trades',\n    'months3': '21',\n    'months12': '87'}]},\n 'numberOfSharesTraded': {'headers': {'insiderTrade': 'INSIDER TRADE',\n   'months3': '3 MONTHS',\n   'months12': '12 MONTHS'},\n  'rows': [{'insiderTrade': 'Number of Shares Bought',\n    'months3': '901,296',\n    'months12': '1,879,369'},\n   {'insiderTrade': 'Number of Shares Sold',\n    'months3': '726,316',\n    'months12': '1,747,708'},\n   {'insiderTrade': 'Total Shares Traded',\n    'months3': '1,627,612',\n    'months12': '3,627,077'},\n   {'insiderTrade': 'Net Activity',\n    'months3': '174,980',\n    'months12': '131,661'}]},\n 'transactionTable': {'totalRecords': '201',\n  'table': {'headers': {'insider': 'INSIDER',\n    'relation': 'RELATION',\n    'lastDate': 'LAST DATE',\n    'transactionType': 'TRANSACTION',\n    'ownType': 'OWNER TYPE',\n    'sharesTraded': 'SHARES TRADED',\n    'lastPrice': 'PRICE',\n    'sharesHeld': 'SHARES HELD'},\n   'rows': [{'insider': 'NADELLA SATYA',\n     'relation': 'Officer',\n     'lastDate': '03/02/2021',\n     'transactionType': 'Automatic Sell',\n     'ownType': 'Direct',\n     'sharesTraded': '278,694',\n     'lastPrice': '$234.12',\n     'sharesHeld': '1,345,661',\n     'url': '/market-activity/insiders/nadella-satya-848613'},\n    {'insider': 'CAPOSSELA CHRISTOPHER C',\n     'relation': 'Officer',\n     'lastDate': '03/01/2021',\n     'transactionType': 'Disposition (Non Open Market)',\n     'ownType': 'Direct',\n     'sharesTraded': '2,736',\n     'lastPrice': '$232.38',\n     'sharesHeld': '102,968',\n     'url': '/market-activity/insiders/capossela-christopher-c-929488'},\n    {'insider': 'COURTOIS JEAN PHILIPPE',\n     'relation': 'Officer',\n     'lastDate': '03/01/2021',\n     'transactionType': 'Disposition (Non Open Market)',\n     'ownType': 'Direct',\n     'sharesTraded': '6,006',\n     'lastPrice': '$232.38',\n     'sharesHeld': '587,909',\n     'url': '/market-activity/insiders/courtois-jean-philippe-385537'},\n    {'insider': 'HOGAN KATHLEEN T',\n     'relation': 'Officer',\n     'lastDate': '03/01/2021',\n     'transactionType': 'Disposition (Non Open Market)',\n     'ownType': 'Direct',\n     'sharesTraded': '3,671',\n     'lastPrice': '$232.38',\n     'sharesHeld': '185,393',\n     'url': '/market-activity/insiders/hogan-kathleen-t-951115'},\n    {'insider': 'HOOD AMY',\n     'relation': 'Officer',\n     'lastDate': '03/01/2021',\n     'transactionType': 'Disposition (Non Open Market)',\n     'ownType': 'Direct',\n     'sharesTraded': '7,508',\n     'lastPrice': '$232.38',\n     'sharesHeld': '477,359',\n     'url': '/market-activity/insiders/hood-amy-906897'},\n    {'insider': 'JOLLA ALICE L.',\n     'relation': 'Officer',\n     'lastDate': '03/01/2021',\n     'transactionType': 'Disposition (Non Open Market)',\n     'ownType': 'Direct',\n     'sharesTraded': '592',\n     'lastPrice': '$232.38',\n     'sharesHeld': '57,935',\n     'url': '/market-activity/insiders/jolla-alice-l-1124486'},\n    {'insider': 'NADELLA SATYA',\n     'relation': 'Officer',\n     'lastDate': '03/01/2021',\n     'transactionType': 'Disposition (Non Open Market)',\n     'ownType': 'Direct',\n     'sharesTraded': '14,868',\n     'lastPrice': '$232.38',\n     'sharesHeld': '1,923,555',\n     'url': '/market-activity/insiders/nadella-satya-848613'},\n    {'insider': 'SMITH BRADFORD L',\n     'relation': 'Officer',\n     'lastDate': '03/01/2021',\n     'transactionType': 'Disposition (Non Open Market)',\n     'ownType': 'Direct',\n     'sharesTraded': '5,917',\n     'lastPrice': '$232.38',\n     'sharesHeld': '702,584',\n     'url': '/market-activity/insiders/smith-bradford-l-383020'},\n    {'insider': 'NADELLA SATYA',\n     'relation': 'Officer',\n     'lastDate': '02/10/2021',\n     'transactionType': 'Acquisition (Non Open Market)',\n     'ownType': 'Direct',\n     'sharesTraded': '900,000',\n     'lastPrice': '$0.00',\n     'sharesHeld': '2,292,573',\n     'url': '/market-activity/insiders/nadella-satya-848613'},\n    {'insider': 'NADELLA SATYA',\n     'relation': 'Officer',\n     'lastDate': '02/10/2021',\n     'transactionType': 'Disposition (Non Open Market)',\n     'ownType': 'Direct',\n     'sharesTraded': '354,150',\n     'lastPrice': '$243.77',\n     'sharesHeld': '1,938,423',\n     'url': '/market-activity/insiders/nadella-satya-848613'}]}},\n 'filerTransactionTable': None}"
     },
     "execution_count": 12,
     "metadata": {},
     "output_type": "execute_result"
    }
   ],
   "source": [
    "stock.company.get_insider_trades()"
   ]
  },
  {
   "cell_type": "code",
   "execution_count": 13,
   "outputs": [
    {
     "data": {
      "text/plain": "{'pegr': {'label': 'Forecast 12 Month Forward PEG Ratio',\n  'text': 'Investors are always looking for companies with good growth prospects selling at attractive prices. One popular statistic used to identify such stocks is the PEG ratio - which is simply the Price Earnings ratio divided by the growth rate. In this case we use the forecasted growth rate (based on the consensus of professional analysts) and forecasted earnings over the next 12 months. In theory, the lower the PEG ratio the better - implying that you are paying less for future earnings growth. The PEG ratio for this company is based on expected earnings for twelve months ending <b>February 2022</b>',\n  'pegValue': 2.64},\n 'per': {'peRatioChart': [{'x': '2020 Actual', 'y': 40.21},\n   {'x': '2021 Estimates', 'y': 31.55},\n   {'x': '2022 Estimates', 'y': 28.84},\n   {'x': '2023 Estimates', 'y': 25.82}],\n  'label': 'Price/Earnings Ratio',\n  'text': 'Price/Earnings Ratio is a widely used stock evaluation measure. For a security, the Price/Earnings Ratio is given by dividing the Last Sale Price by the Average EPS (Earnings Per Share) Estimate for the specified fiscal time period.',\n  'dataProvider': '<b>Data Provider:</b> Data is er by Zacks Investment Research'},\n 'gr': {'peGrowthChart': [{'z': 'Growth', 'x': '2021', 'y': 27.41},\n   {'z': 'Growth', 'x': '2022', 'y': 9.48},\n   {'z': 'P/E Ratios', 'x': '2021', 'y': 31.55},\n   {'z': 'P/E Ratios', 'x': '2022', 'y': 28.84}],\n  'title': 'Forecast P/E Growth Rates'}}"
     },
     "execution_count": 13,
     "metadata": {},
     "output_type": "execute_result"
    }
   ],
   "source": [
    "stock.analyst.get_peg_ratio()"
   ],
   "metadata": {
    "collapsed": false,
    "pycharm": {
     "name": "#%%\n"
    }
   }
  },
  {
   "cell_type": "code",
   "execution_count": 14,
   "outputs": [
    {
     "data": {
      "text/plain": "{'symbol': 'msft',\n 'quarterlyForecast': {'headers': {'fiscalEnd': 'Fiscal Quarter End',\n   'consensusEPSForecast': 'Consensus EPS* Forecast',\n   'highEPSForecast': 'High EPS* Forecast',\n   'lowEPSForecast': 'Low EPS* Forecast',\n   'noOfEstimates': 'Number of Estimates',\n   'up': 'Over the Last 4 Weeks Number of Revisions - Up',\n   'down': 'Over the Last 4 Weeks Number of Revisions - Down'},\n  'rows': [{'fiscalEnd': 'Mar 2021',\n    'consensusEPSForecast': 1.76,\n    'highEPSForecast': 1.83,\n    'lowEPSForecast': 1.69,\n    'noOfEstimates': 14,\n    'up': 0,\n    'down': 0},\n   {'fiscalEnd': 'Jun 2021',\n    'consensusEPSForecast': 1.76,\n    'highEPSForecast': 1.85,\n    'lowEPSForecast': 1.68,\n    'noOfEstimates': 12,\n    'up': 0,\n    'down': 0},\n   {'fiscalEnd': 'Sep 2021',\n    'consensusEPSForecast': 1.91,\n    'highEPSForecast': 2.05,\n    'lowEPSForecast': 1.69,\n    'noOfEstimates': 10,\n    'up': 0,\n    'down': 0},\n   {'fiscalEnd': 'Dec 2021',\n    'consensusEPSForecast': 2.11,\n    'highEPSForecast': 2.32,\n    'lowEPSForecast': 1.87,\n    'noOfEstimates': 10,\n    'up': 0,\n    'down': 0},\n   {'fiscalEnd': 'Mar 2022',\n    'consensusEPSForecast': 1.96,\n    'highEPSForecast': 2.13,\n    'lowEPSForecast': 1.76,\n    'noOfEstimates': 10,\n    'up': 0,\n    'down': 0}]},\n 'yearlyForecast': {'headers': {'fiscalEnd': 'Fiscal Year End',\n   'consensusEPSForecast': 'Consensus EPS* Forecast',\n   'highEPSForecast': 'High EPS* Forecast',\n   'lowEPSForecast': 'Low EPS* Forecast',\n   'noOfEstimates': 'Number of Estimates',\n   'up': 'Over the Last 4 Weeks Number of Revisions - Up',\n   'down': 'Over the Last 4 Weeks Number of Revisions - Down'},\n  'rows': [{'fiscalEnd': 'Jun 2021',\n    'consensusEPSForecast': 7.34,\n    'highEPSForecast': 7.53,\n    'lowEPSForecast': 6.98,\n    'noOfEstimates': 15,\n    'up': 0,\n    'down': 0},\n   {'fiscalEnd': 'Jun 2022',\n    'consensusEPSForecast': 8.03,\n    'highEPSForecast': 8.56,\n    'lowEPSForecast': 7.23,\n    'noOfEstimates': 15,\n    'up': 0,\n    'down': 0},\n   {'fiscalEnd': 'Jun 2023',\n    'consensusEPSForecast': 8.97,\n    'highEPSForecast': 9.91,\n    'lowEPSForecast': 7.77,\n    'noOfEstimates': 7,\n    'up': 0,\n    'down': 0},\n   {'fiscalEnd': 'Jun 2024',\n    'consensusEPSForecast': 10.62,\n    'highEPSForecast': 10.62,\n    'lowEPSForecast': 10.62,\n    'noOfEstimates': 1,\n    'up': 0,\n    'down': 0}]}}"
     },
     "execution_count": 14,
     "metadata": {},
     "output_type": "execute_result"
    }
   ],
   "source": [
    "stock.analyst.get_earnings_forecast()"
   ],
   "metadata": {
    "collapsed": false,
    "pycharm": {
     "name": "#%%\n"
    }
   }
  },
  {
   "cell_type": "code",
   "execution_count": 15,
   "outputs": [
    {
     "data": {
      "text/plain": "{'symbol': 'msft',\n 'changeInConsensus': {'monthData': {'period': '1 Month \\n Ago',\n   'qtrMean': 1.76,\n   'yrMean': 7.34},\n  'weekData': {'period': '1 Week \\n Ago', 'qtrMean': 1.76, 'yrMean': 7.34},\n  'currentData': {'period': 'Current', 'qtrMean': 1.76, 'yrMean': 7.34},\n  'fiscalYearEndText': 'Fiscal Year End Jun 2021',\n  'fiscalQtrEndText': 'Fiscal Quarter End Mar 2021'},\n 'estimatesChanged': {'quarterDataDown': {'changeType': 'Down',\n   'changeValue': 0},\n  'quarterDataUp': {'changeType': 'Up', 'changeValue': 0},\n  'yearDataDown': {'changeType': 'Down', 'changeValue': 0},\n  'yearDataUp': {'changeType': 'Up', 'changeValue': 0},\n  'qtrFiscalQtrEndText': 'Fiscal QE Mar 2021',\n  'yrFiscalYearEndText': 'Fiscal YR Jun 2021'},\n 'textInfo': 'Estimate Momentum measures change in analyst sentiment over time and may be an indicator of future price movements. The Change in Consensus chart shows the current, 1 week ago, and 1 month ago consensus earnings per share (EPS*) forecasts.\\n For the fiscal quarter endingMar 2021 , the consensus EPS* forecast has remained the same over the past week at 1.76 and remained the same over the past month at 1.76. none raised and none lowered their forecast.\\n For the fiscal year ending Jun 2021 , the consensus EPS* forecast has remained the same over the past week at 7.34 and remained the same over the past month at 7.34 . none raised and none lowered their forecast.'}"
     },
     "execution_count": 15,
     "metadata": {},
     "output_type": "execute_result"
    }
   ],
   "source": [
    "stock.analyst.get_estimate_momentum()"
   ],
   "metadata": {
    "collapsed": false,
    "pycharm": {
     "name": "#%%\n"
    }
   }
  },
  {
   "cell_type": "code",
   "execution_count": 16,
   "id": "liable-fundamental",
   "metadata": {},
   "outputs": [],
   "source": [
    "etf = nd.Etf('SPY')"
   ]
  },
  {
   "cell_type": "code",
   "execution_count": 17,
   "id": "latin-mention",
   "metadata": {},
   "outputs": [
    {
     "data": {
      "text/plain": "{'symbol': 'SPY',\n 'companyName': 'SPDR S&P 500',\n 'stockType': 'Exchange Traded Fund',\n 'exchange': 'PSE',\n 'isNasdaqListed': False,\n 'isNasdaq100': False,\n 'isHeld': False,\n 'primaryData': {'lastSalePrice': '$382.93',\n  'netChange': '-0.70',\n  'percentageChange': '-0.18%',\n  'deltaIndicator': 'down',\n  'lastTradeTimestamp': 'DATA AS OF Mar 08, 2021 8:26 AM ET - PRE-MARKET',\n  'isRealTime': True},\n 'secondaryData': {'lastSalePrice': '$383.63',\n  'netChange': '+6.93',\n  'percentageChange': '+1.84%',\n  'deltaIndicator': 'up',\n  'lastTradeTimestamp': 'CLOSED AT 4:00 PM ET ON Mar 05, 2021',\n  'isRealTime': False},\n 'keyStats': {'Volume': {'label': 'Volume', 'value': '518,299'},\n  'ExpenseRatio': {'label': 'Expense Ratio', 'value': '0.09%'},\n  'AUM': {'label': 'Assets Under Management', 'value': '326,679,520'},\n  'AverageSpread': {'label': 'Average Spread', 'value': 'N/A'}},\n 'marketStatus': 'Pre Market',\n 'assetClass': 'ETF',\n 'tradingHeld': None,\n 'complianceStatus': None}"
     },
     "execution_count": 17,
     "metadata": {},
     "output_type": "execute_result"
    }
   ],
   "source": [
    "etf.quote.get_info()"
   ]
  },
  {
   "cell_type": "code",
   "execution_count": 18,
   "outputs": [
    {
     "data": {
      "text/plain": "{'exDividendDate': '12/18/2020',\n 'dividendPaymentDate': '01/29/2021',\n 'yield': '1.49%',\n 'annualizedDividend': '5.691',\n 'payoutRatio': 'N/A',\n 'dividends': {'headers': {'exOrEffDate': 'Ex/EFF DATE',\n   'type': 'TYPE',\n   'amount': 'CASH AMOUNT',\n   'declarationDate': 'DECLARATION DATE',\n   'recordDate': 'RECORD DATE',\n   'paymentDate': 'PAYMENT DATE'},\n  'rows': [{'exOrEffDate': '12/18/2020',\n    'type': 'CASH',\n    'amount': '$1.58',\n    'declarationDate': '01/16/2020',\n    'recordDate': '12/21/2020',\n    'paymentDate': '01/29/2021'},\n   {'exOrEffDate': '09/18/2020',\n    'type': 'CASH',\n    'amount': '$1.339',\n    'declarationDate': '01/16/2020',\n    'recordDate': '09/21/2020',\n    'paymentDate': '10/30/2020'},\n   {'exOrEffDate': '06/19/2020',\n    'type': 'CASH',\n    'amount': '$1.366',\n    'declarationDate': '01/16/2020',\n    'recordDate': '06/22/2020',\n    'paymentDate': '07/31/2020'},\n   {'exOrEffDate': '03/20/2020',\n    'type': 'CASH',\n    'amount': '$1.406',\n    'declarationDate': '01/16/2020',\n    'recordDate': '03/23/2020',\n    'paymentDate': '04/30/2020'},\n   {'exOrEffDate': '12/20/2019',\n    'type': 'CASH',\n    'amount': '$1.57',\n    'declarationDate': '01/10/2019',\n    'recordDate': '12/23/2019',\n    'paymentDate': '01/31/2020'},\n   {'exOrEffDate': '09/20/2019',\n    'type': 'CASH',\n    'amount': '$1.384',\n    'declarationDate': '01/10/2019',\n    'recordDate': '09/23/2019',\n    'paymentDate': '10/31/2019'},\n   {'exOrEffDate': '06/21/2019',\n    'type': 'CASH',\n    'amount': '$1.432',\n    'declarationDate': '01/10/2019',\n    'recordDate': '06/24/2019',\n    'paymentDate': '07/31/2019'},\n   {'exOrEffDate': '03/15/2019',\n    'type': 'CASH',\n    'amount': '$1.233',\n    'declarationDate': '01/10/2019',\n    'recordDate': '03/18/2019',\n    'paymentDate': '04/30/2019'},\n   {'exOrEffDate': '12/21/2018',\n    'type': 'CASH',\n    'amount': '$1.435',\n    'declarationDate': '01/10/2018',\n    'recordDate': '12/24/2018',\n    'paymentDate': '01/31/2019'},\n   {'exOrEffDate': '09/21/2018',\n    'type': 'CASH',\n    'amount': '$1.323',\n    'declarationDate': '01/10/2018',\n    'recordDate': '09/24/2018',\n    'paymentDate': '10/31/2018'},\n   {'exOrEffDate': '06/15/2018',\n    'type': 'CASH',\n    'amount': '$1.246',\n    'declarationDate': '06/14/2018',\n    'recordDate': '06/18/2018',\n    'paymentDate': '07/31/2018'},\n   {'exOrEffDate': '03/16/2018',\n    'type': 'CASH',\n    'amount': '$1.097',\n    'declarationDate': '01/10/2018',\n    'recordDate': '03/19/2018',\n    'paymentDate': '04/30/2018'},\n   {'exOrEffDate': '12/15/2017',\n    'type': 'CASH',\n    'amount': '$1.351',\n    'declarationDate': '12/14/2017',\n    'recordDate': '12/18/2017',\n    'paymentDate': '01/31/2018'},\n   {'exOrEffDate': '09/15/2017',\n    'type': 'CASH',\n    'amount': '$1.235',\n    'declarationDate': '09/14/2017',\n    'recordDate': '09/18/2017',\n    'paymentDate': '10/31/2017'},\n   {'exOrEffDate': '06/16/2017',\n    'type': 'CASH',\n    'amount': '$1.183',\n    'declarationDate': '06/16/2017',\n    'recordDate': '06/20/2017',\n    'paymentDate': '07/31/2017'},\n   {'exOrEffDate': '03/17/2017',\n    'type': 'CASH',\n    'amount': '$1.033',\n    'declarationDate': '05/22/2017',\n    'recordDate': '03/21/2017',\n    'paymentDate': '04/28/2017'},\n   {'exOrEffDate': '12/16/2016',\n    'type': 'CASH',\n    'amount': '$1.329',\n    'declarationDate': '01/04/2017',\n    'recordDate': '12/20/2016',\n    'paymentDate': '01/31/2017'},\n   {'exOrEffDate': '09/16/2016',\n    'type': 'CASH',\n    'amount': '$1.082',\n    'declarationDate': '11/08/2016',\n    'recordDate': '09/20/2016',\n    'paymentDate': '10/31/2016'},\n   {'exOrEffDate': '06/17/2016',\n    'type': 'CASH',\n    'amount': '$1.078',\n    'declarationDate': 'N/A',\n    'recordDate': 'N/A',\n    'paymentDate': 'N/A'},\n   {'exOrEffDate': '03/18/2016',\n    'type': 'CASH',\n    'amount': '$1.05',\n    'declarationDate': 'N/A',\n    'recordDate': 'N/A',\n    'paymentDate': 'N/A'},\n   {'exOrEffDate': '12/18/2015',\n    'type': 'CASH',\n    'amount': '$1.212',\n    'declarationDate': 'N/A',\n    'recordDate': 'N/A',\n    'paymentDate': 'N/A'},\n   {'exOrEffDate': '09/18/2015',\n    'type': 'CASH',\n    'amount': '$1.033',\n    'declarationDate': '12/01/2015',\n    'recordDate': '09/22/2015',\n    'paymentDate': '10/30/2015'},\n   {'exOrEffDate': '06/19/2015',\n    'type': 'CASH',\n    'amount': '$1.03',\n    'declarationDate': '06/19/2015',\n    'recordDate': '06/23/2015',\n    'paymentDate': '07/31/2015'},\n   {'exOrEffDate': '03/20/2015',\n    'type': 'CASH',\n    'amount': '$0.931',\n    'declarationDate': '03/20/2015',\n    'recordDate': '03/24/2015',\n    'paymentDate': '04/30/2015'},\n   {'exOrEffDate': '12/19/2014',\n    'type': 'CASH',\n    'amount': '$1.135',\n    'declarationDate': '12/19/2014',\n    'recordDate': '12/23/2014',\n    'paymentDate': '01/30/2015'},\n   {'exOrEffDate': '09/19/2014',\n    'type': 'CASH',\n    'amount': '$0.939',\n    'declarationDate': '12/08/2014',\n    'recordDate': '09/23/2014',\n    'paymentDate': '10/31/2014'},\n   {'exOrEffDate': '06/20/2014',\n    'type': 'CASH',\n    'amount': '$0.937',\n    'declarationDate': '06/20/2014',\n    'recordDate': '06/24/2014',\n    'paymentDate': '07/31/2014'},\n   {'exOrEffDate': '03/21/2014',\n    'type': 'CASH',\n    'amount': '$0.825',\n    'declarationDate': 'N/A',\n    'recordDate': 'N/A',\n    'paymentDate': 'N/A'},\n   {'exOrEffDate': '12/20/2013',\n    'type': 'CASH',\n    'amount': '$0.98',\n    'declarationDate': 'N/A',\n    'recordDate': 'N/A',\n    'paymentDate': 'N/A'},\n   {'exOrEffDate': '09/20/2013',\n    'type': 'CASH',\n    'amount': '$0.838',\n    'declarationDate': '12/12/2013',\n    'recordDate': '09/24/2013',\n    'paymentDate': '10/31/2013'},\n   {'exOrEffDate': '06/21/2013',\n    'type': 'CASH',\n    'amount': '$0.839',\n    'declarationDate': '06/21/2013',\n    'recordDate': '06/25/2013',\n    'paymentDate': '07/31/2013'}]}}"
     },
     "execution_count": 18,
     "metadata": {},
     "output_type": "execute_result"
    }
   ],
   "source": [
    "etf.quote.get_dividends()\n"
   ],
   "metadata": {
    "collapsed": false,
    "pycharm": {
     "name": "#%%\n"
    }
   }
  }
 ],
 "metadata": {
  "kernelspec": {
   "display_name": "Python 3",
   "language": "python",
   "name": "python3"
  },
  "language_info": {
   "codemirror_mode": {
    "name": "ipython",
    "version": 3
   },
   "file_extension": ".py",
   "mimetype": "text/x-python",
   "name": "python",
   "nbconvert_exporter": "python",
   "pygments_lexer": "ipython3",
   "version": "3.8.7"
  }
 },
 "nbformat": 4,
 "nbformat_minor": 5
}